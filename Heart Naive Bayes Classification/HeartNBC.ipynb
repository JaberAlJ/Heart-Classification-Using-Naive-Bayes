{
 "cells": [
  {
   "cell_type": "markdown",
   "id": "dd9a2f4e",
   "metadata": {},
   "source": [
    "# ***About Author***\n",
    "\n",
    "#### ***[JaberAlJ GitHub](https://github.com/JaberAlJ)***"
   ]
  },
  {
   "cell_type": "markdown",
   "id": "6564dc85",
   "metadata": {},
   "source": [
    "# **Importing Libraries**\n",
    "Import necessary libraries"
   ]
  },
  {
   "cell_type": "code",
   "execution_count": 53,
   "id": "4a443589",
   "metadata": {},
   "outputs": [],
   "source": [
    "# Import Basis\n",
    "import numpy as np\n",
    "import pandas as pd\n",
    "\n",
    "import matplotlib.pyplot as plt\n",
    "import seaborn as sns\n",
    "\n",
    "# Model Selection\n",
    "from sklearn.model_selection import train_test_split, cross_val_score\n",
    "\n",
    "# Model\n",
    "from sklearn.naive_bayes import GaussianNB as GNB\n",
    "\n",
    "# Model Evaluator\n",
    "from sklearn.metrics import confusion_matrix, accuracy_score, ConfusionMatrixDisplay as CMD"
   ]
  },
  {
   "cell_type": "markdown",
   "id": "188d66e0",
   "metadata": {},
   "source": [
    "# **Dataset**"
   ]
  },
  {
   "cell_type": "code",
   "execution_count": 2,
   "id": "f31a9941",
   "metadata": {},
   "outputs": [
    {
     "data": {
      "text/html": [
       "<div>\n",
       "<style scoped>\n",
       "    .dataframe tbody tr th:only-of-type {\n",
       "        vertical-align: middle;\n",
       "    }\n",
       "\n",
       "    .dataframe tbody tr th {\n",
       "        vertical-align: top;\n",
       "    }\n",
       "\n",
       "    .dataframe thead th {\n",
       "        text-align: right;\n",
       "    }\n",
       "</style>\n",
       "<table border=\"1\" class=\"dataframe\">\n",
       "  <thead>\n",
       "    <tr style=\"text-align: right;\">\n",
       "      <th></th>\n",
       "      <th>Age</th>\n",
       "      <th>Sex</th>\n",
       "      <th>ChestPainType</th>\n",
       "      <th>RestingBP</th>\n",
       "      <th>Cholesterol</th>\n",
       "      <th>FastingBS</th>\n",
       "      <th>RestingECG</th>\n",
       "      <th>MaxHR</th>\n",
       "      <th>ExerciseAngina</th>\n",
       "      <th>Oldpeak</th>\n",
       "      <th>ST_Slope</th>\n",
       "      <th>HeartDisease</th>\n",
       "    </tr>\n",
       "  </thead>\n",
       "  <tbody>\n",
       "    <tr>\n",
       "      <th>254</th>\n",
       "      <td>NaN</td>\n",
       "      <td>M</td>\n",
       "      <td>ASY</td>\n",
       "      <td>145.0</td>\n",
       "      <td>248.0</td>\n",
       "      <td>0</td>\n",
       "      <td>Normal</td>\n",
       "      <td>96.0</td>\n",
       "      <td>Y</td>\n",
       "      <td>2.0</td>\n",
       "      <td>Flat</td>\n",
       "      <td>1</td>\n",
       "    </tr>\n",
       "    <tr>\n",
       "      <th>74</th>\n",
       "      <td>55.0</td>\n",
       "      <td>M</td>\n",
       "      <td>ASY</td>\n",
       "      <td>140.0</td>\n",
       "      <td>268.0</td>\n",
       "      <td>0</td>\n",
       "      <td>Normal</td>\n",
       "      <td>128.0</td>\n",
       "      <td>Y</td>\n",
       "      <td>1.5</td>\n",
       "      <td>Flat</td>\n",
       "      <td>1</td>\n",
       "    </tr>\n",
       "    <tr>\n",
       "      <th>574</th>\n",
       "      <td>69.0</td>\n",
       "      <td>M</td>\n",
       "      <td>ASY</td>\n",
       "      <td>142.0</td>\n",
       "      <td>210.0</td>\n",
       "      <td>1</td>\n",
       "      <td>ST</td>\n",
       "      <td>112.0</td>\n",
       "      <td>Y</td>\n",
       "      <td>1.5</td>\n",
       "      <td>Flat</td>\n",
       "      <td>1</td>\n",
       "    </tr>\n",
       "    <tr>\n",
       "      <th>147</th>\n",
       "      <td>43.0</td>\n",
       "      <td>F</td>\n",
       "      <td>ATA</td>\n",
       "      <td>120.0</td>\n",
       "      <td>249.0</td>\n",
       "      <td>0</td>\n",
       "      <td>ST</td>\n",
       "      <td>176.0</td>\n",
       "      <td>N</td>\n",
       "      <td>0.0</td>\n",
       "      <td>Up</td>\n",
       "      <td>0</td>\n",
       "    </tr>\n",
       "    <tr>\n",
       "      <th>382</th>\n",
       "      <td>43.0</td>\n",
       "      <td>M</td>\n",
       "      <td>ASY</td>\n",
       "      <td>115.0</td>\n",
       "      <td>0.0</td>\n",
       "      <td>0</td>\n",
       "      <td>Normal</td>\n",
       "      <td>145.0</td>\n",
       "      <td>Y</td>\n",
       "      <td>2.0</td>\n",
       "      <td>Flat</td>\n",
       "      <td>1</td>\n",
       "    </tr>\n",
       "    <tr>\n",
       "      <th>722</th>\n",
       "      <td>60.0</td>\n",
       "      <td>F</td>\n",
       "      <td>ASY</td>\n",
       "      <td>150.0</td>\n",
       "      <td>258.0</td>\n",
       "      <td>0</td>\n",
       "      <td>LVH</td>\n",
       "      <td>157.0</td>\n",
       "      <td>N</td>\n",
       "      <td>2.6</td>\n",
       "      <td>Flat</td>\n",
       "      <td>1</td>\n",
       "    </tr>\n",
       "    <tr>\n",
       "      <th>821</th>\n",
       "      <td>60.0</td>\n",
       "      <td>F</td>\n",
       "      <td>NAP</td>\n",
       "      <td>102.0</td>\n",
       "      <td>318.0</td>\n",
       "      <td>0</td>\n",
       "      <td>Normal</td>\n",
       "      <td>160.0</td>\n",
       "      <td>N</td>\n",
       "      <td>0.0</td>\n",
       "      <td>Up</td>\n",
       "      <td>0</td>\n",
       "    </tr>\n",
       "    <tr>\n",
       "      <th>465</th>\n",
       "      <td>42.0</td>\n",
       "      <td>M</td>\n",
       "      <td>NAP</td>\n",
       "      <td>134.0</td>\n",
       "      <td>240.0</td>\n",
       "      <td>0</td>\n",
       "      <td>Normal</td>\n",
       "      <td>160.0</td>\n",
       "      <td>N</td>\n",
       "      <td>0.0</td>\n",
       "      <td>Up</td>\n",
       "      <td>0</td>\n",
       "    </tr>\n",
       "    <tr>\n",
       "      <th>138</th>\n",
       "      <td>54.0</td>\n",
       "      <td>M</td>\n",
       "      <td>ASY</td>\n",
       "      <td>140.0</td>\n",
       "      <td>166.0</td>\n",
       "      <td>0</td>\n",
       "      <td>Normal</td>\n",
       "      <td>118.0</td>\n",
       "      <td>Y</td>\n",
       "      <td>0.0</td>\n",
       "      <td>Flat</td>\n",
       "      <td>1</td>\n",
       "    </tr>\n",
       "    <tr>\n",
       "      <th>911</th>\n",
       "      <td>59.0</td>\n",
       "      <td>m</td>\n",
       "      <td>ASY</td>\n",
       "      <td>164.0</td>\n",
       "      <td>176.0</td>\n",
       "      <td>1</td>\n",
       "      <td>LVH</td>\n",
       "      <td>90.0</td>\n",
       "      <td>N</td>\n",
       "      <td>1.0</td>\n",
       "      <td>Flat</td>\n",
       "      <td>1</td>\n",
       "    </tr>\n",
       "  </tbody>\n",
       "</table>\n",
       "</div>"
      ],
      "text/plain": [
       "      Age Sex ChestPainType  RestingBP  Cholesterol  FastingBS RestingECG  \\\n",
       "254   NaN   M           ASY      145.0        248.0          0     Normal   \n",
       "74   55.0   M           ASY      140.0        268.0          0     Normal   \n",
       "574  69.0   M           ASY      142.0        210.0          1         ST   \n",
       "147  43.0   F           ATA      120.0        249.0          0         ST   \n",
       "382  43.0   M           ASY      115.0          0.0          0     Normal   \n",
       "722  60.0   F           ASY      150.0        258.0          0        LVH   \n",
       "821  60.0   F           NAP      102.0        318.0          0     Normal   \n",
       "465  42.0   M           NAP      134.0        240.0          0     Normal   \n",
       "138  54.0   M           ASY      140.0        166.0          0     Normal   \n",
       "911  59.0  m            ASY      164.0        176.0          1        LVH   \n",
       "\n",
       "     MaxHR ExerciseAngina  Oldpeak ST_Slope  HeartDisease  \n",
       "254   96.0              Y      2.0     Flat             1  \n",
       "74   128.0              Y      1.5     Flat             1  \n",
       "574  112.0              Y      1.5     Flat             1  \n",
       "147  176.0              N      0.0       Up             0  \n",
       "382  145.0              Y      2.0     Flat             1  \n",
       "722  157.0              N      2.6     Flat             1  \n",
       "821  160.0              N      0.0       Up             0  \n",
       "465  160.0              N      0.0       Up             0  \n",
       "138  118.0              Y      0.0     Flat             1  \n",
       "911   90.0              N      1.0     Flat             1  "
      ]
     },
     "execution_count": 2,
     "metadata": {},
     "output_type": "execute_result"
    }
   ],
   "source": [
    "heart = pd.read_csv('heart_unclnData.csv')\n",
    "heart.sample(10)"
   ]
  },
  {
   "cell_type": "markdown",
   "id": "d7e8a47b",
   "metadata": {},
   "source": [
    "### **About Dataset**\n",
    "Cardiovascular diseases (CVDs) are the **number 1 cause of death globally💔**, taking an estimated **17.9 million lives each year🌍**, which accounts for **31% of all deaths worldwide**. Four out of 5CVD deaths are due to heart attacks and strokes💔💔, and one-third of these deaths occur prematurely in people under 70 years of age. Heart failure is a common event caused by CVDs 💔and this dataset contains 11 features that can be used to predict a possible heart disease🩺.\n",
    "\n",
    "🏥 People with cardiovascular disease or who are at high cardiovascular risk (due to the presence of one or more risk factors such as hypertension, diabetes, hyperlipidaemia or already established disease) need **early detection** and management wherein a machine learning model can be of great help🤖."
   ]
  },
  {
   "cell_type": "code",
   "execution_count": 3,
   "id": "8be3581d",
   "metadata": {},
   "outputs": [
    {
     "name": "stdout",
     "output_type": "stream",
     "text": [
      "<class 'pandas.core.frame.DataFrame'>\n",
      "RangeIndex: 918 entries, 0 to 917\n",
      "Data columns (total 12 columns):\n",
      " #   Column          Non-Null Count  Dtype  \n",
      "---  ------          --------------  -----  \n",
      " 0   Age             892 non-null    float64\n",
      " 1   Sex             918 non-null    object \n",
      " 2   ChestPainType   918 non-null    object \n",
      " 3   RestingBP       904 non-null    float64\n",
      " 4   Cholesterol     901 non-null    float64\n",
      " 5   FastingBS       918 non-null    int64  \n",
      " 6   RestingECG      918 non-null    object \n",
      " 7   MaxHR           901 non-null    float64\n",
      " 8   ExerciseAngina  918 non-null    object \n",
      " 9   Oldpeak         918 non-null    float64\n",
      " 10  ST_Slope        918 non-null    object \n",
      " 11  HeartDisease    918 non-null    int64  \n",
      "dtypes: float64(5), int64(2), object(5)\n",
      "memory usage: 86.2+ KB\n"
     ]
    }
   ],
   "source": [
    "heart.info()"
   ]
  },
  {
   "cell_type": "code",
   "execution_count": 4,
   "id": "44f7938b",
   "metadata": {},
   "outputs": [
    {
     "data": {
      "text/html": [
       "<div>\n",
       "<style scoped>\n",
       "    .dataframe tbody tr th:only-of-type {\n",
       "        vertical-align: middle;\n",
       "    }\n",
       "\n",
       "    .dataframe tbody tr th {\n",
       "        vertical-align: top;\n",
       "    }\n",
       "\n",
       "    .dataframe thead th {\n",
       "        text-align: right;\n",
       "    }\n",
       "</style>\n",
       "<table border=\"1\" class=\"dataframe\">\n",
       "  <thead>\n",
       "    <tr style=\"text-align: right;\">\n",
       "      <th></th>\n",
       "      <th>Age</th>\n",
       "      <th>Sex</th>\n",
       "      <th>ChestPainType</th>\n",
       "      <th>RestingBP</th>\n",
       "      <th>Cholesterol</th>\n",
       "      <th>FastingBS</th>\n",
       "      <th>RestingECG</th>\n",
       "      <th>MaxHR</th>\n",
       "      <th>ExerciseAngina</th>\n",
       "      <th>Oldpeak</th>\n",
       "      <th>ST_Slope</th>\n",
       "      <th>HeartDisease</th>\n",
       "    </tr>\n",
       "  </thead>\n",
       "  <tbody>\n",
       "    <tr>\n",
       "      <th>count</th>\n",
       "      <td>892.000000</td>\n",
       "      <td>918</td>\n",
       "      <td>918</td>\n",
       "      <td>904.000000</td>\n",
       "      <td>901.000000</td>\n",
       "      <td>918.000000</td>\n",
       "      <td>918</td>\n",
       "      <td>901.000000</td>\n",
       "      <td>918</td>\n",
       "      <td>918.000000</td>\n",
       "      <td>918</td>\n",
       "      <td>918.000000</td>\n",
       "    </tr>\n",
       "    <tr>\n",
       "      <th>unique</th>\n",
       "      <td>NaN</td>\n",
       "      <td>5</td>\n",
       "      <td>4</td>\n",
       "      <td>NaN</td>\n",
       "      <td>NaN</td>\n",
       "      <td>NaN</td>\n",
       "      <td>3</td>\n",
       "      <td>NaN</td>\n",
       "      <td>6</td>\n",
       "      <td>NaN</td>\n",
       "      <td>3</td>\n",
       "      <td>NaN</td>\n",
       "    </tr>\n",
       "    <tr>\n",
       "      <th>top</th>\n",
       "      <td>NaN</td>\n",
       "      <td>M</td>\n",
       "      <td>ASY</td>\n",
       "      <td>NaN</td>\n",
       "      <td>NaN</td>\n",
       "      <td>NaN</td>\n",
       "      <td>Normal</td>\n",
       "      <td>NaN</td>\n",
       "      <td>N</td>\n",
       "      <td>NaN</td>\n",
       "      <td>Flat</td>\n",
       "      <td>NaN</td>\n",
       "    </tr>\n",
       "    <tr>\n",
       "      <th>freq</th>\n",
       "      <td>NaN</td>\n",
       "      <td>705</td>\n",
       "      <td>496</td>\n",
       "      <td>NaN</td>\n",
       "      <td>NaN</td>\n",
       "      <td>NaN</td>\n",
       "      <td>552</td>\n",
       "      <td>NaN</td>\n",
       "      <td>528</td>\n",
       "      <td>NaN</td>\n",
       "      <td>460</td>\n",
       "      <td>NaN</td>\n",
       "    </tr>\n",
       "    <tr>\n",
       "      <th>mean</th>\n",
       "      <td>53.618834</td>\n",
       "      <td>NaN</td>\n",
       "      <td>NaN</td>\n",
       "      <td>132.347345</td>\n",
       "      <td>199.139845</td>\n",
       "      <td>0.233115</td>\n",
       "      <td>NaN</td>\n",
       "      <td>136.734739</td>\n",
       "      <td>NaN</td>\n",
       "      <td>0.887364</td>\n",
       "      <td>NaN</td>\n",
       "      <td>0.553377</td>\n",
       "    </tr>\n",
       "    <tr>\n",
       "      <th>std</th>\n",
       "      <td>9.441913</td>\n",
       "      <td>NaN</td>\n",
       "      <td>NaN</td>\n",
       "      <td>18.399616</td>\n",
       "      <td>109.433625</td>\n",
       "      <td>0.423046</td>\n",
       "      <td>NaN</td>\n",
       "      <td>25.450772</td>\n",
       "      <td>NaN</td>\n",
       "      <td>1.066570</td>\n",
       "      <td>NaN</td>\n",
       "      <td>0.497414</td>\n",
       "    </tr>\n",
       "    <tr>\n",
       "      <th>min</th>\n",
       "      <td>28.000000</td>\n",
       "      <td>NaN</td>\n",
       "      <td>NaN</td>\n",
       "      <td>0.000000</td>\n",
       "      <td>0.000000</td>\n",
       "      <td>0.000000</td>\n",
       "      <td>NaN</td>\n",
       "      <td>60.000000</td>\n",
       "      <td>NaN</td>\n",
       "      <td>-2.600000</td>\n",
       "      <td>NaN</td>\n",
       "      <td>0.000000</td>\n",
       "    </tr>\n",
       "    <tr>\n",
       "      <th>25%</th>\n",
       "      <td>47.000000</td>\n",
       "      <td>NaN</td>\n",
       "      <td>NaN</td>\n",
       "      <td>120.000000</td>\n",
       "      <td>173.000000</td>\n",
       "      <td>0.000000</td>\n",
       "      <td>NaN</td>\n",
       "      <td>120.000000</td>\n",
       "      <td>NaN</td>\n",
       "      <td>0.000000</td>\n",
       "      <td>NaN</td>\n",
       "      <td>0.000000</td>\n",
       "    </tr>\n",
       "    <tr>\n",
       "      <th>50%</th>\n",
       "      <td>54.000000</td>\n",
       "      <td>NaN</td>\n",
       "      <td>NaN</td>\n",
       "      <td>130.000000</td>\n",
       "      <td>223.000000</td>\n",
       "      <td>0.000000</td>\n",
       "      <td>NaN</td>\n",
       "      <td>138.000000</td>\n",
       "      <td>NaN</td>\n",
       "      <td>0.600000</td>\n",
       "      <td>NaN</td>\n",
       "      <td>1.000000</td>\n",
       "    </tr>\n",
       "    <tr>\n",
       "      <th>75%</th>\n",
       "      <td>60.000000</td>\n",
       "      <td>NaN</td>\n",
       "      <td>NaN</td>\n",
       "      <td>140.000000</td>\n",
       "      <td>267.000000</td>\n",
       "      <td>0.000000</td>\n",
       "      <td>NaN</td>\n",
       "      <td>155.000000</td>\n",
       "      <td>NaN</td>\n",
       "      <td>1.500000</td>\n",
       "      <td>NaN</td>\n",
       "      <td>1.000000</td>\n",
       "    </tr>\n",
       "    <tr>\n",
       "      <th>max</th>\n",
       "      <td>77.000000</td>\n",
       "      <td>NaN</td>\n",
       "      <td>NaN</td>\n",
       "      <td>200.000000</td>\n",
       "      <td>603.000000</td>\n",
       "      <td>1.000000</td>\n",
       "      <td>NaN</td>\n",
       "      <td>202.000000</td>\n",
       "      <td>NaN</td>\n",
       "      <td>6.200000</td>\n",
       "      <td>NaN</td>\n",
       "      <td>1.000000</td>\n",
       "    </tr>\n",
       "  </tbody>\n",
       "</table>\n",
       "</div>"
      ],
      "text/plain": [
       "               Age  Sex ChestPainType   RestingBP  Cholesterol   FastingBS  \\\n",
       "count   892.000000  918           918  904.000000   901.000000  918.000000   \n",
       "unique         NaN    5             4         NaN          NaN         NaN   \n",
       "top            NaN    M           ASY         NaN          NaN         NaN   \n",
       "freq           NaN  705           496         NaN          NaN         NaN   \n",
       "mean     53.618834  NaN           NaN  132.347345   199.139845    0.233115   \n",
       "std       9.441913  NaN           NaN   18.399616   109.433625    0.423046   \n",
       "min      28.000000  NaN           NaN    0.000000     0.000000    0.000000   \n",
       "25%      47.000000  NaN           NaN  120.000000   173.000000    0.000000   \n",
       "50%      54.000000  NaN           NaN  130.000000   223.000000    0.000000   \n",
       "75%      60.000000  NaN           NaN  140.000000   267.000000    0.000000   \n",
       "max      77.000000  NaN           NaN  200.000000   603.000000    1.000000   \n",
       "\n",
       "       RestingECG       MaxHR ExerciseAngina     Oldpeak ST_Slope  \\\n",
       "count         918  901.000000            918  918.000000      918   \n",
       "unique          3         NaN              6         NaN        3   \n",
       "top        Normal         NaN              N         NaN     Flat   \n",
       "freq          552         NaN            528         NaN      460   \n",
       "mean          NaN  136.734739            NaN    0.887364      NaN   \n",
       "std           NaN   25.450772            NaN    1.066570      NaN   \n",
       "min           NaN   60.000000            NaN   -2.600000      NaN   \n",
       "25%           NaN  120.000000            NaN    0.000000      NaN   \n",
       "50%           NaN  138.000000            NaN    0.600000      NaN   \n",
       "75%           NaN  155.000000            NaN    1.500000      NaN   \n",
       "max           NaN  202.000000            NaN    6.200000      NaN   \n",
       "\n",
       "        HeartDisease  \n",
       "count     918.000000  \n",
       "unique           NaN  \n",
       "top              NaN  \n",
       "freq             NaN  \n",
       "mean        0.553377  \n",
       "std         0.497414  \n",
       "min         0.000000  \n",
       "25%         0.000000  \n",
       "50%         1.000000  \n",
       "75%         1.000000  \n",
       "max         1.000000  "
      ]
     },
     "execution_count": 4,
     "metadata": {},
     "output_type": "execute_result"
    }
   ],
   "source": [
    "heart.describe(include='all')"
   ]
  },
  {
   "cell_type": "markdown",
   "id": "6aac509e",
   "metadata": {},
   "source": [
    "- `Age`: age of the patient **[years]**\n",
    "- `Sex`: sex of the patient **[M: Male, F: Female]**\n",
    "- `ChestPainType`: chest pain type **[TA: Typical Angina, ATA: Atypical Angina, NAP: Non-Anginal Pain, ASY: Asymptomatic]**\n",
    "- `RestingBP`: resting blood pressure **[mm Hg]**\n",
    "- `Cholesterol`: serum cholesterol **[mm/dl]**\n",
    "- `FastingBS`: fasting blood sugar *[1: if FastingBS > 120 mg/dl, 0: otherwise]*\n",
    "- `RestingECG`: resting electrocardiogram results **[Normal: Normal, ST: having ST-T wave abnormality (T wave inversions and/or ST elevation or depression of > 0.05 mV), LVH`: showing probable or definite left ventricular hypertrophy by Estes' criteria]**\n",
    "- `MaxHR`: maximum heart rate achieved **[Numeric value between 60 and 202]**\n",
    "- `ExerciseAngina`: exercise-induced angina **[Y: Yes, N: No]**\n",
    "- `Oldpeak`: oldpeak = ST **[Numeric value measured in depression]**\n",
    "- `ST_Slope`: the slope of the peak exercise ST segment **[Up: upsloping, Flat: flat, Down: downsloping]**\n",
    "----\n",
    "- `HeartDisease`: output class **[1: heart disease, 0: Normal]**"
   ]
  },
  {
   "cell_type": "markdown",
   "id": "f3ac6500",
   "metadata": {},
   "source": [
    "# **Data Preprocessing**"
   ]
  },
  {
   "cell_type": "markdown",
   "id": "9dbbfb60",
   "metadata": {},
   "source": [
    "### **Uniques Values**\n",
    "Review all **uniques** values in each column in the dataset"
   ]
  },
  {
   "cell_type": "code",
   "execution_count": 5,
   "id": "f93653ed",
   "metadata": {},
   "outputs": [
    {
     "name": "stdout",
     "output_type": "stream",
     "text": [
      "------------------------------\n",
      "Age = [40. 49. 37. 48. 54. nan 45. 58. 39. 42. 38. 43. 60. 36. 44. 53. 52. 51.\n",
      " 56. 41. 32. 65. 35. 59. 50. 47. 31. 46. 57. 55. 63. 66. 34. 33. 61. 29.\n",
      " 62. 28. 30. 74. 68. 72. 64. 69. 67. 73. 70. 77. 75. 76. 71.]\n",
      "\n",
      "------------------------------\n",
      "Sex = ['M' 'F' 'f ' 'm ' 'm']\n",
      "\n",
      "------------------------------\n",
      "ChestPainType = ['ATA' 'NAP' 'ASY' 'TA']\n",
      "\n",
      "------------------------------\n",
      "RestingBP = [140. 160. 130. 138. 150. 120. 110. 136. 115. 100. 124. 113. 125. 145.\n",
      " 112. 132. 118. 170. 142.  nan 190. 135. 180. 108. 155. 128. 106.  92.\n",
      " 200. 122.  98. 105. 133.  95.  80. 137. 185. 165. 126. 152. 116.   0.\n",
      " 144. 154. 134. 104. 139. 131. 141. 178. 146. 158. 123. 102.  96. 143.\n",
      " 172. 114. 127. 101. 174. 156.  94. 148. 117. 129. 164.]\n",
      "\n",
      "------------------------------\n",
      "Cholesterol = [289. 180. 283. 214. 195. 339. 237. 208. 207. 284. 211. 164. 204. 234.\n",
      " 273. 196. 201. 248. 267. 223. 184. 288. 215. 209. 260. 468. 188. 518.\n",
      " 167. 224. 172. 186. 254. 306. 250. 177. 227. 230. 294. 264. 259. 175.\n",
      " 318. 216. 340. 233. 205.  nan 194. 270. 213. 365. 342. 253. 277. 202.\n",
      " 297. 225. 246. 412. 265. 182. 218. 268. 163. 529. 100. 206. 238. 139.\n",
      " 263. 291. 229. 307. 210. 329. 147.  85. 269. 275. 179. 392. 466. 129.\n",
      " 241. 255. 276. 282. 338. 160. 156. 272. 240. 393. 161. 228. 292. 388.\n",
      " 166. 247. 331. 341. 243. 279. 198. 249. 168. 603. 159. 190. 185. 290.\n",
      " 212. 231. 222. 235. 320. 187. 266. 287. 404. 312. 251. 328. 285. 280.\n",
      " 245. 192. 193. 308. 219. 257. 132. 226. 303. 298. 256. 117. 295. 173.\n",
      " 315. 281. 309. 200. 336. 355. 326. 171. 491. 271. 274. 394. 221. 126.\n",
      " 305. 220. 242. 347. 344. 358. 169. 181.   0. 236. 203. 153. 316. 217.\n",
      " 252. 458. 384. 258. 349. 142. 197. 113. 261. 310. 232. 110. 123. 170.\n",
      " 369. 152. 244. 165. 337. 300. 333. 385. 322. 564. 239. 293. 407. 149.\n",
      " 311. 199. 417. 178. 319. 354. 330. 302. 313. 141. 327. 304. 286. 360.\n",
      " 262. 325. 299. 409. 174. 183. 321. 353. 335. 278. 157. 176. 131.]\n",
      "\n",
      "------------------------------\n",
      "FastingBS = [0 1]\n",
      "\n",
      "------------------------------\n",
      "RestingECG = ['Normal' 'ST' 'LVH']\n",
      "\n",
      "------------------------------\n",
      "MaxHR = [172. 156.  98. 108. 122. 170. 142. 130. 120.  99. 145. 140. 137. 150.\n",
      " 166. 165. 125. 160.  nan 164. 138. 178. 112. 118. 127. 114. 154. 155.\n",
      "  87. 148. 100. 168. 184. 121. 153. 134.  96. 174. 144.  82. 135. 115.\n",
      " 128. 116.  94. 110.  92. 180. 152. 124. 106. 185. 139. 190. 175. 146.\n",
      " 158. 132. 176. 119. 188. 162. 105.  90. 136. 167. 129. 102. 143. 103.\n",
      "  91. 126.  93. 131. 149. 123. 182. 141.  77. 109. 133. 179. 104. 113.\n",
      "  95.  72.  97. 117.  86.  63. 157.  83.  60.  70. 163.  67.  78.  84.\n",
      " 111.  80. 107. 161.  69.  88.  73. 159. 151. 181. 186. 177. 173. 169.\n",
      " 171. 147.  71. 192. 195. 194. 187. 202.]\n",
      "\n",
      "------------------------------\n",
      "ExerciseAngina = ['N' 'Y' 'y ' 'y' 'n ' 'n']\n",
      "\n",
      "------------------------------\n",
      "Oldpeak = [ 0.   1.   1.5  2.   3.   4.   0.5  2.5  5.   0.8  0.7  1.4  2.1  0.4\n",
      "  0.2  1.7  2.2  0.1  1.6  1.3  0.3  1.8  2.6 -0.9  2.8 -2.6 -1.5 -0.1\n",
      "  0.9  1.1  2.4 -1.  -1.1 -0.7 -0.8  3.7  1.2 -0.5 -2.   1.9  3.5  0.6\n",
      "  3.1  2.3  3.4  3.6  4.2  3.2  5.6  3.8  2.9  6.2  4.4]\n",
      "\n",
      "------------------------------\n",
      "ST_Slope = ['Up' 'Flat' 'Down']\n",
      "\n",
      "------------------------------\n",
      "HeartDisease = [0 1]\n",
      "\n"
     ]
    }
   ],
   "source": [
    "for col in heart.columns:\n",
    "    print(\"-\"*30)\n",
    "    print(f\"{col} = {heart[col].unique()}\\n\")"
   ]
  },
  {
   "cell_type": "markdown",
   "id": "e2fd62ce",
   "metadata": {},
   "source": [
    "### **Null Values**\n",
    "Check for any null values"
   ]
  },
  {
   "cell_type": "code",
   "execution_count": 6,
   "id": "2926a98c",
   "metadata": {},
   "outputs": [
    {
     "data": {
      "text/plain": [
       "True"
      ]
     },
     "execution_count": 6,
     "metadata": {},
     "output_type": "execute_result"
    }
   ],
   "source": [
    "heart.isna().values.any()"
   ]
  },
  {
   "cell_type": "markdown",
   "id": "c1c11dd7",
   "metadata": {},
   "source": [
    "Count **null** values in each column"
   ]
  },
  {
   "cell_type": "code",
   "execution_count": 7,
   "id": "dc6a24df",
   "metadata": {},
   "outputs": [
    {
     "data": {
      "text/plain": [
       "Age               26\n",
       "Sex                0\n",
       "ChestPainType      0\n",
       "RestingBP         14\n",
       "Cholesterol       17\n",
       "FastingBS          0\n",
       "RestingECG         0\n",
       "MaxHR             17\n",
       "ExerciseAngina     0\n",
       "Oldpeak            0\n",
       "ST_Slope           0\n",
       "HeartDisease       0\n",
       "dtype: int64"
      ]
     },
     "execution_count": 7,
     "metadata": {},
     "output_type": "execute_result"
    }
   ],
   "source": [
    "heart.isna().sum()"
   ]
  },
  {
   "cell_type": "markdown",
   "id": "77dd8857",
   "metadata": {},
   "source": [
    "## 1. **Data Cleaning**\n",
    "Data cleaning for each column"
   ]
  },
  {
   "cell_type": "code",
   "execution_count": 8,
   "id": "f6d1eeba",
   "metadata": {},
   "outputs": [],
   "source": [
    "# `Age` col\n",
    "mean_age = int(heart['Age'].mean())\n",
    "heart['Age'].fillna(mean_age, inplace=True)"
   ]
  },
  {
   "cell_type": "code",
   "execution_count": 9,
   "id": "6992fe18",
   "metadata": {},
   "outputs": [],
   "source": [
    "# `Sex` col\n",
    "heart['Sex'] = heart['Sex'].str.strip()\n",
    "heart['Sex'] = heart['Sex'].str.upper()"
   ]
  },
  {
   "cell_type": "code",
   "execution_count": 10,
   "id": "3bcc1d13",
   "metadata": {},
   "outputs": [],
   "source": [
    "# `RestingBP` col\n",
    "mean_rbp = int(heart['RestingBP'].mean())\n",
    "heart['RestingBP'].fillna(mean_rbp, inplace=True)"
   ]
  },
  {
   "cell_type": "code",
   "execution_count": 11,
   "id": "edc30b71",
   "metadata": {},
   "outputs": [],
   "source": [
    "# `Cholesterol` col\n",
    "mean_cost = int(heart['Cholesterol'].mean())\n",
    "heart['Cholesterol'].fillna(mean_cost, inplace=True)"
   ]
  },
  {
   "cell_type": "code",
   "execution_count": 12,
   "id": "616e67a1",
   "metadata": {},
   "outputs": [],
   "source": [
    "# `MaxHR` col\n",
    "mean_mHR = int(heart['MaxHR'].mean())\n",
    "heart['MaxHR'].fillna(mean_mHR, inplace=True)"
   ]
  },
  {
   "cell_type": "code",
   "execution_count": 13,
   "id": "3d1c2d27",
   "metadata": {},
   "outputs": [],
   "source": [
    "# `ExerciseAngina` col\n",
    "heart['ExerciseAngina'] = heart['ExerciseAngina'].str.strip()\n",
    "heart['ExerciseAngina'] = heart['ExerciseAngina'].str.upper()"
   ]
  },
  {
   "cell_type": "code",
   "execution_count": 14,
   "id": "aa28438f",
   "metadata": {},
   "outputs": [
    {
     "name": "stdout",
     "output_type": "stream",
     "text": [
      "<class 'pandas.core.frame.DataFrame'>\n",
      "RangeIndex: 918 entries, 0 to 917\n",
      "Data columns (total 12 columns):\n",
      " #   Column          Non-Null Count  Dtype  \n",
      "---  ------          --------------  -----  \n",
      " 0   Age             918 non-null    float64\n",
      " 1   Sex             918 non-null    object \n",
      " 2   ChestPainType   918 non-null    object \n",
      " 3   RestingBP       918 non-null    float64\n",
      " 4   Cholesterol     918 non-null    float64\n",
      " 5   FastingBS       918 non-null    int64  \n",
      " 6   RestingECG      918 non-null    object \n",
      " 7   MaxHR           918 non-null    float64\n",
      " 8   ExerciseAngina  918 non-null    object \n",
      " 9   Oldpeak         918 non-null    float64\n",
      " 10  ST_Slope        918 non-null    object \n",
      " 11  HeartDisease    918 non-null    int64  \n",
      "dtypes: float64(5), int64(2), object(5)\n",
      "memory usage: 86.2+ KB\n"
     ]
    }
   ],
   "source": [
    "heart.info()"
   ]
  },
  {
   "cell_type": "code",
   "execution_count": 15,
   "id": "a1348b0a",
   "metadata": {},
   "outputs": [
    {
     "name": "stdout",
     "output_type": "stream",
     "text": [
      "------------------------------\n",
      "Age = [40. 49. 37. 48. 54. 53. 45. 58. 39. 42. 38. 43. 60. 36. 44. 52. 51. 56.\n",
      " 41. 32. 65. 35. 59. 50. 47. 31. 46. 57. 55. 63. 66. 34. 33. 61. 29. 62.\n",
      " 28. 30. 74. 68. 72. 64. 69. 67. 73. 70. 77. 75. 76. 71.]\n",
      "\n",
      "------------------------------\n",
      "Sex = ['M' 'F']\n",
      "\n",
      "------------------------------\n",
      "ChestPainType = ['ATA' 'NAP' 'ASY' 'TA']\n",
      "\n",
      "------------------------------\n",
      "RestingBP = [140. 160. 130. 138. 150. 120. 110. 136. 115. 100. 124. 113. 125. 145.\n",
      " 112. 132. 118. 170. 142. 190. 135. 180. 108. 155. 128. 106.  92. 200.\n",
      " 122.  98. 105. 133.  95.  80. 137. 185. 165. 126. 152. 116.   0. 144.\n",
      " 154. 134. 104. 139. 131. 141. 178. 146. 158. 123. 102.  96. 143. 172.\n",
      " 114. 127. 101. 174. 156.  94. 148. 117. 129. 164.]\n",
      "\n",
      "------------------------------\n",
      "Cholesterol = [289. 180. 283. 214. 195. 339. 237. 208. 207. 284. 211. 164. 204. 234.\n",
      " 273. 196. 201. 248. 267. 223. 184. 288. 215. 209. 260. 468. 188. 518.\n",
      " 167. 224. 172. 186. 254. 306. 250. 177. 227. 230. 294. 264. 259. 175.\n",
      " 318. 216. 340. 233. 205. 199. 194. 270. 213. 365. 342. 253. 277. 202.\n",
      " 297. 225. 246. 412. 265. 182. 218. 268. 163. 529. 100. 206. 238. 139.\n",
      " 263. 291. 229. 307. 210. 329. 147.  85. 269. 275. 179. 392. 466. 129.\n",
      " 241. 255. 276. 282. 338. 160. 156. 272. 240. 393. 161. 228. 292. 388.\n",
      " 166. 247. 331. 341. 243. 279. 198. 249. 168. 603. 159. 190. 185. 290.\n",
      " 212. 231. 222. 235. 320. 187. 266. 287. 404. 312. 251. 328. 285. 280.\n",
      " 245. 192. 193. 308. 219. 257. 132. 226. 303. 298. 256. 117. 295. 173.\n",
      " 315. 281. 309. 200. 336. 355. 326. 171. 491. 271. 274. 394. 221. 126.\n",
      " 305. 220. 242. 347. 344. 358. 169. 181.   0. 236. 203. 153. 316. 217.\n",
      " 252. 458. 384. 258. 349. 142. 197. 113. 261. 310. 232. 110. 123. 170.\n",
      " 369. 152. 244. 165. 337. 300. 333. 385. 322. 564. 239. 293. 407. 149.\n",
      " 311. 417. 178. 319. 354. 330. 302. 313. 141. 327. 304. 286. 360. 262.\n",
      " 325. 299. 409. 174. 183. 321. 353. 335. 278. 157. 176. 131.]\n",
      "\n",
      "------------------------------\n",
      "FastingBS = [0 1]\n",
      "\n",
      "------------------------------\n",
      "RestingECG = ['Normal' 'ST' 'LVH']\n",
      "\n",
      "------------------------------\n",
      "MaxHR = [172. 156.  98. 108. 122. 170. 142. 130. 120.  99. 145. 140. 137. 150.\n",
      " 166. 165. 125. 160. 136. 164. 138. 178. 112. 118. 127. 114. 154. 155.\n",
      "  87. 148. 100. 168. 184. 121. 153. 134.  96. 174. 144.  82. 135. 115.\n",
      " 128. 116.  94. 110.  92. 180. 152. 124. 106. 185. 139. 190. 175. 146.\n",
      " 158. 132. 176. 119. 188. 162. 105.  90. 167. 129. 102. 143. 103.  91.\n",
      " 126.  93. 131. 149. 123. 182. 141.  77. 109. 133. 179. 104. 113.  95.\n",
      "  72.  97. 117.  86.  63. 157.  83.  60.  70. 163.  67.  78.  84. 111.\n",
      "  80. 107. 161.  69.  88.  73. 159. 151. 181. 186. 177. 173. 169. 171.\n",
      " 147.  71. 192. 195. 194. 187. 202.]\n",
      "\n",
      "------------------------------\n",
      "ExerciseAngina = ['N' 'Y']\n",
      "\n",
      "------------------------------\n",
      "Oldpeak = [ 0.   1.   1.5  2.   3.   4.   0.5  2.5  5.   0.8  0.7  1.4  2.1  0.4\n",
      "  0.2  1.7  2.2  0.1  1.6  1.3  0.3  1.8  2.6 -0.9  2.8 -2.6 -1.5 -0.1\n",
      "  0.9  1.1  2.4 -1.  -1.1 -0.7 -0.8  3.7  1.2 -0.5 -2.   1.9  3.5  0.6\n",
      "  3.1  2.3  3.4  3.6  4.2  3.2  5.6  3.8  2.9  6.2  4.4]\n",
      "\n",
      "------------------------------\n",
      "ST_Slope = ['Up' 'Flat' 'Down']\n",
      "\n",
      "------------------------------\n",
      "HeartDisease = [0 1]\n",
      "\n"
     ]
    }
   ],
   "source": [
    "for col in heart.columns:\n",
    "    print(\"-\"*30)\n",
    "    print(f\"{col} = {heart[col].unique()}\\n\")"
   ]
  },
  {
   "cell_type": "markdown",
   "id": "44191b38",
   "metadata": {},
   "source": [
    "## 2. **Data Encoding**\n",
    "Data encoding for the **categorical variables**"
   ]
  },
  {
   "cell_type": "code",
   "execution_count": 16,
   "id": "66f28ab1",
   "metadata": {},
   "outputs": [],
   "source": [
    "# `Sex` col\n",
    "heart['Sex'].replace({'M': 0, 'F': 1}, inplace=True)\n",
    "heart['Sex'] = heart['Sex'].astype('int64')"
   ]
  },
  {
   "cell_type": "code",
   "execution_count": 17,
   "id": "c92652c9",
   "metadata": {},
   "outputs": [],
   "source": [
    "# `ChestPainType` col\n",
    "heart['ChestPainType'].replace({'TA': 0, 'ATA': 1, 'NAP': 2, 'ASY': 3}, inplace=True)\n",
    "heart['ChestPainType'] = heart['ChestPainType'].astype('int64')"
   ]
  },
  {
   "cell_type": "code",
   "execution_count": 18,
   "id": "d5cd21fa",
   "metadata": {},
   "outputs": [],
   "source": [
    "# `RestingECG` col\n",
    "heart['RestingECG'].replace({'Normal': 0, 'ST': 1, 'LVH': 2}, inplace=True)\n",
    "heart['RestingECG'] = heart['RestingECG'].astype('int64')"
   ]
  },
  {
   "cell_type": "code",
   "execution_count": 19,
   "id": "122e0dea",
   "metadata": {},
   "outputs": [],
   "source": [
    "# `ExerciseAngina` col\n",
    "heart['ExerciseAngina'].replace({'Y': 0, 'N': 1}, inplace=True)\n",
    "heart['ExerciseAngina'] = heart['ExerciseAngina'].astype('int64')"
   ]
  },
  {
   "cell_type": "code",
   "execution_count": 20,
   "id": "b4a80a49",
   "metadata": {},
   "outputs": [],
   "source": [
    "# `ST_Slope` col\n",
    "heart['ST_Slope'].replace({'Up': 0, 'Flat': 1, 'Down': 2}, inplace=True)\n",
    "heart['ST_Slope'] = heart['ST_Slope'].astype('int64')"
   ]
  },
  {
   "cell_type": "code",
   "execution_count": 21,
   "id": "f3438fc5",
   "metadata": {},
   "outputs": [
    {
     "name": "stdout",
     "output_type": "stream",
     "text": [
      "<class 'pandas.core.frame.DataFrame'>\n",
      "RangeIndex: 918 entries, 0 to 917\n",
      "Data columns (total 12 columns):\n",
      " #   Column          Non-Null Count  Dtype  \n",
      "---  ------          --------------  -----  \n",
      " 0   Age             918 non-null    float64\n",
      " 1   Sex             918 non-null    int64  \n",
      " 2   ChestPainType   918 non-null    int64  \n",
      " 3   RestingBP       918 non-null    float64\n",
      " 4   Cholesterol     918 non-null    float64\n",
      " 5   FastingBS       918 non-null    int64  \n",
      " 6   RestingECG      918 non-null    int64  \n",
      " 7   MaxHR           918 non-null    float64\n",
      " 8   ExerciseAngina  918 non-null    int64  \n",
      " 9   Oldpeak         918 non-null    float64\n",
      " 10  ST_Slope        918 non-null    int64  \n",
      " 11  HeartDisease    918 non-null    int64  \n",
      "dtypes: float64(5), int64(7)\n",
      "memory usage: 86.2 KB\n"
     ]
    }
   ],
   "source": [
    "heart.info()"
   ]
  },
  {
   "cell_type": "code",
   "execution_count": 22,
   "id": "93e2ebfc",
   "metadata": {},
   "outputs": [
    {
     "name": "stdout",
     "output_type": "stream",
     "text": [
      "------------------------------\n",
      "Age = [40. 49. 37. 48. 54. 53. 45. 58. 39. 42. 38. 43. 60. 36. 44. 52. 51. 56.\n",
      " 41. 32. 65. 35. 59. 50. 47. 31. 46. 57. 55. 63. 66. 34. 33. 61. 29. 62.\n",
      " 28. 30. 74. 68. 72. 64. 69. 67. 73. 70. 77. 75. 76. 71.]\n",
      "\n",
      "------------------------------\n",
      "Sex = [0 1]\n",
      "\n",
      "------------------------------\n",
      "ChestPainType = [1 2 3 0]\n",
      "\n",
      "------------------------------\n",
      "RestingBP = [140. 160. 130. 138. 150. 120. 110. 136. 115. 100. 124. 113. 125. 145.\n",
      " 112. 132. 118. 170. 142. 190. 135. 180. 108. 155. 128. 106.  92. 200.\n",
      " 122.  98. 105. 133.  95.  80. 137. 185. 165. 126. 152. 116.   0. 144.\n",
      " 154. 134. 104. 139. 131. 141. 178. 146. 158. 123. 102.  96. 143. 172.\n",
      " 114. 127. 101. 174. 156.  94. 148. 117. 129. 164.]\n",
      "\n",
      "------------------------------\n",
      "Cholesterol = [289. 180. 283. 214. 195. 339. 237. 208. 207. 284. 211. 164. 204. 234.\n",
      " 273. 196. 201. 248. 267. 223. 184. 288. 215. 209. 260. 468. 188. 518.\n",
      " 167. 224. 172. 186. 254. 306. 250. 177. 227. 230. 294. 264. 259. 175.\n",
      " 318. 216. 340. 233. 205. 199. 194. 270. 213. 365. 342. 253. 277. 202.\n",
      " 297. 225. 246. 412. 265. 182. 218. 268. 163. 529. 100. 206. 238. 139.\n",
      " 263. 291. 229. 307. 210. 329. 147.  85. 269. 275. 179. 392. 466. 129.\n",
      " 241. 255. 276. 282. 338. 160. 156. 272. 240. 393. 161. 228. 292. 388.\n",
      " 166. 247. 331. 341. 243. 279. 198. 249. 168. 603. 159. 190. 185. 290.\n",
      " 212. 231. 222. 235. 320. 187. 266. 287. 404. 312. 251. 328. 285. 280.\n",
      " 245. 192. 193. 308. 219. 257. 132. 226. 303. 298. 256. 117. 295. 173.\n",
      " 315. 281. 309. 200. 336. 355. 326. 171. 491. 271. 274. 394. 221. 126.\n",
      " 305. 220. 242. 347. 344. 358. 169. 181.   0. 236. 203. 153. 316. 217.\n",
      " 252. 458. 384. 258. 349. 142. 197. 113. 261. 310. 232. 110. 123. 170.\n",
      " 369. 152. 244. 165. 337. 300. 333. 385. 322. 564. 239. 293. 407. 149.\n",
      " 311. 417. 178. 319. 354. 330. 302. 313. 141. 327. 304. 286. 360. 262.\n",
      " 325. 299. 409. 174. 183. 321. 353. 335. 278. 157. 176. 131.]\n",
      "\n",
      "------------------------------\n",
      "FastingBS = [0 1]\n",
      "\n",
      "------------------------------\n",
      "RestingECG = [0 1 2]\n",
      "\n",
      "------------------------------\n",
      "MaxHR = [172. 156.  98. 108. 122. 170. 142. 130. 120.  99. 145. 140. 137. 150.\n",
      " 166. 165. 125. 160. 136. 164. 138. 178. 112. 118. 127. 114. 154. 155.\n",
      "  87. 148. 100. 168. 184. 121. 153. 134.  96. 174. 144.  82. 135. 115.\n",
      " 128. 116.  94. 110.  92. 180. 152. 124. 106. 185. 139. 190. 175. 146.\n",
      " 158. 132. 176. 119. 188. 162. 105.  90. 167. 129. 102. 143. 103.  91.\n",
      " 126.  93. 131. 149. 123. 182. 141.  77. 109. 133. 179. 104. 113.  95.\n",
      "  72.  97. 117.  86.  63. 157.  83.  60.  70. 163.  67.  78.  84. 111.\n",
      "  80. 107. 161.  69.  88.  73. 159. 151. 181. 186. 177. 173. 169. 171.\n",
      " 147.  71. 192. 195. 194. 187. 202.]\n",
      "\n",
      "------------------------------\n",
      "ExerciseAngina = [1 0]\n",
      "\n",
      "------------------------------\n",
      "Oldpeak = [ 0.   1.   1.5  2.   3.   4.   0.5  2.5  5.   0.8  0.7  1.4  2.1  0.4\n",
      "  0.2  1.7  2.2  0.1  1.6  1.3  0.3  1.8  2.6 -0.9  2.8 -2.6 -1.5 -0.1\n",
      "  0.9  1.1  2.4 -1.  -1.1 -0.7 -0.8  3.7  1.2 -0.5 -2.   1.9  3.5  0.6\n",
      "  3.1  2.3  3.4  3.6  4.2  3.2  5.6  3.8  2.9  6.2  4.4]\n",
      "\n",
      "------------------------------\n",
      "ST_Slope = [0 1 2]\n",
      "\n",
      "------------------------------\n",
      "HeartDisease = [0 1]\n",
      "\n"
     ]
    }
   ],
   "source": [
    "for col in heart.columns:\n",
    "    print(\"-\"*30)\n",
    "    print(f\"{col} = {heart[col].unique()}\\n\")"
   ]
  },
  {
   "cell_type": "markdown",
   "id": "407efad6",
   "metadata": {},
   "source": [
    "# **Algorithm**"
   ]
  },
  {
   "cell_type": "markdown",
   "id": "92aea6dc",
   "metadata": {},
   "source": [
    "## 1. **Dividing the Data**\n",
    "Dividing the data into X, y \n",
    "- ***X***: the features \n",
    "- ***y*** : the target 🎯 "
   ]
  },
  {
   "cell_type": "code",
   "execution_count": 23,
   "id": "11f23161",
   "metadata": {},
   "outputs": [],
   "source": [
    "X = heart.iloc[:, :-1].values\n",
    "y = heart.iloc[:, -1].values"
   ]
  },
  {
   "cell_type": "code",
   "execution_count": 24,
   "id": "8cd2890a",
   "metadata": {},
   "outputs": [
    {
     "data": {
      "text/plain": [
       "array([[40. ,  0. ,  1. , ...,  1. ,  0. ,  0. ],\n",
       "       [49. ,  1. ,  2. , ...,  1. ,  1. ,  1. ],\n",
       "       [37. ,  0. ,  1. , ...,  1. ,  0. ,  0. ],\n",
       "       ...,\n",
       "       [57. ,  0. ,  3. , ...,  0. ,  1.2,  1. ],\n",
       "       [57. ,  1. ,  1. , ...,  1. ,  0. ,  1. ],\n",
       "       [38. ,  0. ,  2. , ...,  1. ,  0. ,  0. ]])"
      ]
     },
     "execution_count": 24,
     "metadata": {},
     "output_type": "execute_result"
    }
   ],
   "source": [
    "X"
   ]
  },
  {
   "cell_type": "code",
   "execution_count": 25,
   "id": "bb890efd",
   "metadata": {},
   "outputs": [
    {
     "data": {
      "text/plain": [
       "array([0, 1, 0, 1, 0, 0, 0, 0, 1, 0, 0, 1, 0, 1, 0, 0, 1, 0, 1, 1, 0, 0,\n",
       "       0, 1, 0, 0, 0, 0, 0, 0, 1, 0, 1, 1, 0, 0, 1, 0, 0, 0, 0, 1, 0, 0,\n",
       "       1, 0, 0, 0, 0, 1, 1, 1, 0, 0, 0, 0, 1, 1, 0, 1, 0, 0, 0, 1, 0, 0,\n",
       "       0, 0, 1, 0, 1, 0, 1, 0, 1, 0, 1, 0, 0, 1, 0, 0, 1, 0, 1, 1, 1, 0,\n",
       "       1, 0, 0, 0, 0, 1, 0, 1, 0, 0, 0, 0, 1, 0, 1, 1, 1, 0, 0, 0, 0, 0,\n",
       "       0, 1, 0, 0, 0, 1, 1, 1, 0, 1, 1, 0, 0, 1, 0, 0, 0, 0, 0, 0, 0, 1,\n",
       "       1, 1, 0, 1, 0, 0, 1, 1, 1, 1, 1, 0, 1, 0, 0, 0, 0, 1, 0, 0, 0, 0,\n",
       "       0, 1, 1, 0, 1, 0, 1, 1, 0, 0, 0, 1, 1, 0, 0, 0, 0, 0, 0, 0, 1, 1,\n",
       "       1, 0, 0, 0, 1, 0, 1, 0, 0, 1, 0, 1, 0, 1, 0, 0, 0, 0, 0, 0, 0, 0,\n",
       "       1, 0, 0, 0, 0, 0, 0, 0, 0, 1, 0, 1, 1, 1, 0, 0, 1, 0, 1, 0, 0, 0,\n",
       "       1, 1, 0, 0, 0, 1, 0, 1, 0, 0, 0, 0, 0, 0, 0, 0, 1, 1, 1, 1, 0, 1,\n",
       "       1, 0, 1, 0, 1, 1, 1, 1, 1, 1, 0, 0, 1, 0, 0, 0, 0, 0, 0, 0, 1, 1,\n",
       "       1, 0, 1, 0, 1, 0, 0, 0, 1, 0, 0, 0, 1, 1, 0, 0, 0, 1, 0, 0, 0, 0,\n",
       "       0, 0, 0, 0, 0, 0, 0, 1, 1, 1, 1, 1, 1, 1, 1, 0, 1, 1, 1, 1, 1, 0,\n",
       "       1, 1, 0, 1, 1, 1, 0, 1, 1, 1, 1, 1, 1, 1, 1, 1, 1, 1, 0, 1, 1, 1,\n",
       "       1, 1, 0, 1, 1, 1, 0, 1, 1, 1, 1, 1, 1, 1, 1, 1, 1, 1, 1, 1, 1, 1,\n",
       "       1, 1, 1, 1, 1, 1, 1, 1, 1, 1, 1, 1, 0, 1, 1, 1, 1, 1, 1, 1, 1, 1,\n",
       "       1, 1, 1, 1, 1, 1, 1, 1, 1, 1, 1, 1, 1, 1, 1, 1, 1, 1, 1, 1, 1, 1,\n",
       "       1, 1, 1, 1, 1, 1, 1, 1, 1, 1, 1, 1, 1, 1, 1, 1, 1, 1, 1, 1, 1, 0,\n",
       "       1, 1, 0, 0, 1, 0, 1, 1, 0, 1, 1, 1, 1, 0, 1, 1, 0, 0, 1, 1, 1, 0,\n",
       "       1, 1, 1, 1, 1, 1, 1, 1, 1, 1, 1, 1, 1, 0, 1, 0, 1, 1, 1, 0, 1, 1,\n",
       "       1, 0, 1, 0, 1, 0, 1, 0, 1, 1, 1, 1, 0, 1, 0, 1, 1, 1, 1, 1, 1, 1,\n",
       "       1, 1, 0, 1, 0, 1, 1, 1, 1, 1, 1, 1, 0, 1, 1, 1, 1, 1, 1, 0, 1, 1,\n",
       "       1, 0, 1, 1, 0, 1, 0, 1, 1, 0, 1, 1, 1, 1, 0, 1, 1, 1, 0, 0, 1, 0,\n",
       "       1, 1, 1, 1, 1, 1, 1, 1, 1, 1, 1, 0, 1, 1, 1, 1, 0, 0, 1, 1, 1, 0,\n",
       "       1, 0, 1, 1, 0, 1, 0, 1, 1, 1, 0, 0, 0, 1, 1, 1, 0, 1, 1, 1, 1, 1,\n",
       "       1, 1, 1, 1, 1, 1, 1, 1, 1, 1, 1, 0, 1, 1, 1, 0, 1, 1, 0, 0, 1, 1,\n",
       "       1, 1, 1, 0, 1, 1, 0, 1, 1, 1, 0, 0, 1, 1, 1, 1, 1, 0, 1, 0, 1, 1,\n",
       "       0, 1, 0, 0, 0, 1, 1, 1, 1, 0, 0, 0, 1, 0, 0, 1, 1, 0, 0, 1, 0, 0,\n",
       "       0, 0, 0, 0, 0, 1, 0, 1, 0, 0, 1, 1, 1, 1, 1, 0, 0, 1, 0, 0, 0, 1,\n",
       "       0, 1, 1, 1, 1, 1, 0, 0, 0, 0, 0, 1, 0, 1, 1, 0, 1, 0, 0, 0, 1, 0,\n",
       "       1, 0, 1, 1, 0, 0, 0, 0, 1, 0, 0, 0, 0, 1, 1, 1, 0, 0, 0, 0, 0, 0,\n",
       "       1, 0, 1, 1, 1, 1, 1, 0, 1, 0, 0, 0, 1, 0, 1, 1, 1, 0, 1, 1, 0, 1,\n",
       "       0, 1, 0, 0, 0, 1, 1, 0, 1, 1, 1, 1, 0, 0, 0, 1, 0, 0, 1, 1, 1, 0,\n",
       "       1, 0, 0, 0, 1, 0, 0, 1, 0, 1, 0, 1, 1, 1, 1, 1, 0, 0, 0, 0, 0, 0,\n",
       "       0, 1, 0, 0, 1, 1, 1, 0, 1, 0, 0, 0, 0, 0, 1, 0, 1, 1, 0, 0, 1, 1,\n",
       "       1, 1, 0, 0, 1, 1, 0, 0, 0, 1, 0, 0, 1, 0, 1, 0, 1, 0, 0, 0, 0, 0,\n",
       "       1, 0, 1, 1, 1, 1, 0, 0, 0, 1, 0, 1, 0, 0, 1, 0, 0, 0, 0, 0, 0, 1,\n",
       "       1, 0, 1, 0, 0, 1, 1, 0, 0, 1, 1, 0, 1, 0, 1, 0, 1, 0, 0, 1, 0, 0,\n",
       "       1, 0, 1, 1, 0, 1, 1, 1, 0, 1, 0, 0, 0, 0, 1, 1, 0, 0, 1, 1, 0, 1,\n",
       "       0, 0, 0, 0, 1, 0, 0, 1, 1, 1, 0, 0, 0, 1, 0, 1, 0, 1, 0, 1, 1, 1,\n",
       "       0, 0, 0, 1, 0, 1, 1, 1, 0, 1, 1, 1, 1, 1, 1, 0], dtype=int64)"
      ]
     },
     "execution_count": 25,
     "metadata": {},
     "output_type": "execute_result"
    }
   ],
   "source": [
    "y"
   ]
  },
  {
   "cell_type": "markdown",
   "id": "4488ade7",
   "metadata": {},
   "source": [
    "## 2. **Splitting the Data into Train/Test**"
   ]
  },
  {
   "cell_type": "code",
   "execution_count": 26,
   "id": "1e24396e",
   "metadata": {},
   "outputs": [],
   "source": [
    "# For model-1\n",
    "(X1_train, X1_test, y1_train, y1_test) = train_test_split(X, y, test_size=.2)\n",
    "\n",
    "# For model-2\n",
    "(X2_train, X2_test, y2_train, y2_test) = train_test_split(X, y, test_size=.2)"
   ]
  },
  {
   "cell_type": "code",
   "execution_count": 27,
   "id": "af329779",
   "metadata": {},
   "outputs": [
    {
     "data": {
      "text/plain": [
       "((734, 11), (184, 11), (734,), (184,))"
      ]
     },
     "execution_count": 27,
     "metadata": {},
     "output_type": "execute_result"
    }
   ],
   "source": [
    "# Model-1\n",
    "X1_train.shape, X1_test.shape, y1_train.shape, y1_test.shape"
   ]
  },
  {
   "cell_type": "code",
   "execution_count": 28,
   "id": "66bb9db4",
   "metadata": {},
   "outputs": [
    {
     "data": {
      "text/plain": [
       "((734, 11), (184, 11), (734,), (184,))"
      ]
     },
     "execution_count": 28,
     "metadata": {},
     "output_type": "execute_result"
    }
   ],
   "source": [
    "# Model-2\n",
    "X2_train.shape, X2_test.shape, y2_train.shape, y2_test.shape"
   ]
  },
  {
   "cell_type": "markdown",
   "id": "32c55c07",
   "metadata": {},
   "source": [
    "## 3. **Building and Training the Models**"
   ]
  },
  {
   "cell_type": "code",
   "execution_count": 29,
   "id": "96842264",
   "metadata": {},
   "outputs": [
    {
     "data": {
      "text/html": [
       "<style>#sk-container-id-1 {color: black;}#sk-container-id-1 pre{padding: 0;}#sk-container-id-1 div.sk-toggleable {background-color: white;}#sk-container-id-1 label.sk-toggleable__label {cursor: pointer;display: block;width: 100%;margin-bottom: 0;padding: 0.3em;box-sizing: border-box;text-align: center;}#sk-container-id-1 label.sk-toggleable__label-arrow:before {content: \"▸\";float: left;margin-right: 0.25em;color: #696969;}#sk-container-id-1 label.sk-toggleable__label-arrow:hover:before {color: black;}#sk-container-id-1 div.sk-estimator:hover label.sk-toggleable__label-arrow:before {color: black;}#sk-container-id-1 div.sk-toggleable__content {max-height: 0;max-width: 0;overflow: hidden;text-align: left;background-color: #f0f8ff;}#sk-container-id-1 div.sk-toggleable__content pre {margin: 0.2em;color: black;border-radius: 0.25em;background-color: #f0f8ff;}#sk-container-id-1 input.sk-toggleable__control:checked~div.sk-toggleable__content {max-height: 200px;max-width: 100%;overflow: auto;}#sk-container-id-1 input.sk-toggleable__control:checked~label.sk-toggleable__label-arrow:before {content: \"▾\";}#sk-container-id-1 div.sk-estimator input.sk-toggleable__control:checked~label.sk-toggleable__label {background-color: #d4ebff;}#sk-container-id-1 div.sk-label input.sk-toggleable__control:checked~label.sk-toggleable__label {background-color: #d4ebff;}#sk-container-id-1 input.sk-hidden--visually {border: 0;clip: rect(1px 1px 1px 1px);clip: rect(1px, 1px, 1px, 1px);height: 1px;margin: -1px;overflow: hidden;padding: 0;position: absolute;width: 1px;}#sk-container-id-1 div.sk-estimator {font-family: monospace;background-color: #f0f8ff;border: 1px dotted black;border-radius: 0.25em;box-sizing: border-box;margin-bottom: 0.5em;}#sk-container-id-1 div.sk-estimator:hover {background-color: #d4ebff;}#sk-container-id-1 div.sk-parallel-item::after {content: \"\";width: 100%;border-bottom: 1px solid gray;flex-grow: 1;}#sk-container-id-1 div.sk-label:hover label.sk-toggleable__label {background-color: #d4ebff;}#sk-container-id-1 div.sk-serial::before {content: \"\";position: absolute;border-left: 1px solid gray;box-sizing: border-box;top: 0;bottom: 0;left: 50%;z-index: 0;}#sk-container-id-1 div.sk-serial {display: flex;flex-direction: column;align-items: center;background-color: white;padding-right: 0.2em;padding-left: 0.2em;position: relative;}#sk-container-id-1 div.sk-item {position: relative;z-index: 1;}#sk-container-id-1 div.sk-parallel {display: flex;align-items: stretch;justify-content: center;background-color: white;position: relative;}#sk-container-id-1 div.sk-item::before, #sk-container-id-1 div.sk-parallel-item::before {content: \"\";position: absolute;border-left: 1px solid gray;box-sizing: border-box;top: 0;bottom: 0;left: 50%;z-index: -1;}#sk-container-id-1 div.sk-parallel-item {display: flex;flex-direction: column;z-index: 1;position: relative;background-color: white;}#sk-container-id-1 div.sk-parallel-item:first-child::after {align-self: flex-end;width: 50%;}#sk-container-id-1 div.sk-parallel-item:last-child::after {align-self: flex-start;width: 50%;}#sk-container-id-1 div.sk-parallel-item:only-child::after {width: 0;}#sk-container-id-1 div.sk-dashed-wrapped {border: 1px dashed gray;margin: 0 0.4em 0.5em 0.4em;box-sizing: border-box;padding-bottom: 0.4em;background-color: white;}#sk-container-id-1 div.sk-label label {font-family: monospace;font-weight: bold;display: inline-block;line-height: 1.2em;}#sk-container-id-1 div.sk-label-container {text-align: center;}#sk-container-id-1 div.sk-container {/* jupyter's `normalize.less` sets `[hidden] { display: none; }` but bootstrap.min.css set `[hidden] { display: none !important; }` so we also need the `!important` here to be able to override the default hidden behavior on the sphinx rendered scikit-learn.org. See: https://github.com/scikit-learn/scikit-learn/issues/21755 */display: inline-block !important;position: relative;}#sk-container-id-1 div.sk-text-repr-fallback {display: none;}</style><div id=\"sk-container-id-1\" class=\"sk-top-container\"><div class=\"sk-text-repr-fallback\"><pre>GaussianNB()</pre><b>In a Jupyter environment, please rerun this cell to show the HTML representation or trust the notebook. <br />On GitHub, the HTML representation is unable to render, please try loading this page with nbviewer.org.</b></div><div class=\"sk-container\" hidden><div class=\"sk-item\"><div class=\"sk-estimator sk-toggleable\"><input class=\"sk-toggleable__control sk-hidden--visually\" id=\"sk-estimator-id-1\" type=\"checkbox\" checked><label for=\"sk-estimator-id-1\" class=\"sk-toggleable__label sk-toggleable__label-arrow\">GaussianNB</label><div class=\"sk-toggleable__content\"><pre>GaussianNB()</pre></div></div></div></div></div>"
      ],
      "text/plain": [
       "GaussianNB()"
      ]
     },
     "execution_count": 29,
     "metadata": {},
     "output_type": "execute_result"
    }
   ],
   "source": [
    "# Building model-1\n",
    "nb_clf1 = GNB()\n",
    "\n",
    "# Fitting model-1\n",
    "nb_clf1.fit(X1_train, y1_train)"
   ]
  },
  {
   "cell_type": "code",
   "execution_count": 30,
   "id": "7347aa98",
   "metadata": {},
   "outputs": [
    {
     "data": {
      "text/html": [
       "<style>#sk-container-id-2 {color: black;}#sk-container-id-2 pre{padding: 0;}#sk-container-id-2 div.sk-toggleable {background-color: white;}#sk-container-id-2 label.sk-toggleable__label {cursor: pointer;display: block;width: 100%;margin-bottom: 0;padding: 0.3em;box-sizing: border-box;text-align: center;}#sk-container-id-2 label.sk-toggleable__label-arrow:before {content: \"▸\";float: left;margin-right: 0.25em;color: #696969;}#sk-container-id-2 label.sk-toggleable__label-arrow:hover:before {color: black;}#sk-container-id-2 div.sk-estimator:hover label.sk-toggleable__label-arrow:before {color: black;}#sk-container-id-2 div.sk-toggleable__content {max-height: 0;max-width: 0;overflow: hidden;text-align: left;background-color: #f0f8ff;}#sk-container-id-2 div.sk-toggleable__content pre {margin: 0.2em;color: black;border-radius: 0.25em;background-color: #f0f8ff;}#sk-container-id-2 input.sk-toggleable__control:checked~div.sk-toggleable__content {max-height: 200px;max-width: 100%;overflow: auto;}#sk-container-id-2 input.sk-toggleable__control:checked~label.sk-toggleable__label-arrow:before {content: \"▾\";}#sk-container-id-2 div.sk-estimator input.sk-toggleable__control:checked~label.sk-toggleable__label {background-color: #d4ebff;}#sk-container-id-2 div.sk-label input.sk-toggleable__control:checked~label.sk-toggleable__label {background-color: #d4ebff;}#sk-container-id-2 input.sk-hidden--visually {border: 0;clip: rect(1px 1px 1px 1px);clip: rect(1px, 1px, 1px, 1px);height: 1px;margin: -1px;overflow: hidden;padding: 0;position: absolute;width: 1px;}#sk-container-id-2 div.sk-estimator {font-family: monospace;background-color: #f0f8ff;border: 1px dotted black;border-radius: 0.25em;box-sizing: border-box;margin-bottom: 0.5em;}#sk-container-id-2 div.sk-estimator:hover {background-color: #d4ebff;}#sk-container-id-2 div.sk-parallel-item::after {content: \"\";width: 100%;border-bottom: 1px solid gray;flex-grow: 1;}#sk-container-id-2 div.sk-label:hover label.sk-toggleable__label {background-color: #d4ebff;}#sk-container-id-2 div.sk-serial::before {content: \"\";position: absolute;border-left: 1px solid gray;box-sizing: border-box;top: 0;bottom: 0;left: 50%;z-index: 0;}#sk-container-id-2 div.sk-serial {display: flex;flex-direction: column;align-items: center;background-color: white;padding-right: 0.2em;padding-left: 0.2em;position: relative;}#sk-container-id-2 div.sk-item {position: relative;z-index: 1;}#sk-container-id-2 div.sk-parallel {display: flex;align-items: stretch;justify-content: center;background-color: white;position: relative;}#sk-container-id-2 div.sk-item::before, #sk-container-id-2 div.sk-parallel-item::before {content: \"\";position: absolute;border-left: 1px solid gray;box-sizing: border-box;top: 0;bottom: 0;left: 50%;z-index: -1;}#sk-container-id-2 div.sk-parallel-item {display: flex;flex-direction: column;z-index: 1;position: relative;background-color: white;}#sk-container-id-2 div.sk-parallel-item:first-child::after {align-self: flex-end;width: 50%;}#sk-container-id-2 div.sk-parallel-item:last-child::after {align-self: flex-start;width: 50%;}#sk-container-id-2 div.sk-parallel-item:only-child::after {width: 0;}#sk-container-id-2 div.sk-dashed-wrapped {border: 1px dashed gray;margin: 0 0.4em 0.5em 0.4em;box-sizing: border-box;padding-bottom: 0.4em;background-color: white;}#sk-container-id-2 div.sk-label label {font-family: monospace;font-weight: bold;display: inline-block;line-height: 1.2em;}#sk-container-id-2 div.sk-label-container {text-align: center;}#sk-container-id-2 div.sk-container {/* jupyter's `normalize.less` sets `[hidden] { display: none; }` but bootstrap.min.css set `[hidden] { display: none !important; }` so we also need the `!important` here to be able to override the default hidden behavior on the sphinx rendered scikit-learn.org. See: https://github.com/scikit-learn/scikit-learn/issues/21755 */display: inline-block !important;position: relative;}#sk-container-id-2 div.sk-text-repr-fallback {display: none;}</style><div id=\"sk-container-id-2\" class=\"sk-top-container\"><div class=\"sk-text-repr-fallback\"><pre>GaussianNB(var_smoothing=1e-08)</pre><b>In a Jupyter environment, please rerun this cell to show the HTML representation or trust the notebook. <br />On GitHub, the HTML representation is unable to render, please try loading this page with nbviewer.org.</b></div><div class=\"sk-container\" hidden><div class=\"sk-item\"><div class=\"sk-estimator sk-toggleable\"><input class=\"sk-toggleable__control sk-hidden--visually\" id=\"sk-estimator-id-2\" type=\"checkbox\" checked><label for=\"sk-estimator-id-2\" class=\"sk-toggleable__label sk-toggleable__label-arrow\">GaussianNB</label><div class=\"sk-toggleable__content\"><pre>GaussianNB(var_smoothing=1e-08)</pre></div></div></div></div></div>"
      ],
      "text/plain": [
       "GaussianNB(var_smoothing=1e-08)"
      ]
     },
     "execution_count": 30,
     "metadata": {},
     "output_type": "execute_result"
    }
   ],
   "source": [
    "# Building model-2\n",
    "nb_clf2 = GNB(\n",
    "    var_smoothing=1e-8  # adds a small value to the variance to avoid division by zero. (default value is 1e-9)\n",
    ")\n",
    "\n",
    "# Fitting model-2\n",
    "nb_clf2.fit(X2_train, y2_train)"
   ]
  },
  {
   "cell_type": "markdown",
   "id": "d97cce51",
   "metadata": {},
   "source": [
    "## 4. **Testing the Models**"
   ]
  },
  {
   "cell_type": "code",
   "execution_count": 31,
   "id": "d74f50b6",
   "metadata": {},
   "outputs": [
    {
     "data": {
      "text/plain": [
       "array([1, 0, 0, 0, 0, 0, 1, 1, 0, 1, 1, 1, 0, 0, 0, 0, 1, 1, 0, 1, 1, 1,\n",
       "       0, 1, 0, 0, 1, 0, 1, 1, 0, 1, 0, 1, 0, 1, 0, 0, 1, 1, 0, 0, 1, 0,\n",
       "       1, 1, 1, 0, 1, 1, 0, 1, 1, 0, 1, 0, 0, 1, 0, 1, 1, 1, 0, 1, 1, 1,\n",
       "       1, 1, 1, 0, 0, 1, 1, 1, 0, 1, 0, 0, 0, 0, 1, 1, 1, 0, 0, 0, 1, 0,\n",
       "       1, 1, 1, 0, 0, 1, 0, 1, 1, 0, 0, 1, 0, 1, 0, 1, 0, 1, 0, 1, 1, 1,\n",
       "       0, 1, 0, 0, 1, 0, 1, 1, 0, 1, 0, 0, 0, 1, 0, 1, 1, 1, 1, 1, 0, 0,\n",
       "       1, 0, 0, 1, 1, 0, 0, 0, 0, 1, 0, 1, 0, 0, 1, 1, 0, 1, 1, 1, 1, 0,\n",
       "       1, 0, 0, 1, 0, 1, 1, 0, 1, 1, 1, 0, 0, 1, 0, 1, 0, 1, 0, 1, 0, 1,\n",
       "       1, 0, 0, 1, 0, 1, 1, 0], dtype=int64)"
      ]
     },
     "execution_count": 31,
     "metadata": {},
     "output_type": "execute_result"
    }
   ],
   "source": [
    "# Model-1\n",
    "y1_pred = nb_clf1.predict(X1_test)\n",
    "y1_pred"
   ]
  },
  {
   "cell_type": "code",
   "execution_count": 32,
   "id": "8184950b",
   "metadata": {},
   "outputs": [
    {
     "data": {
      "text/plain": [
       "array([1, 1, 1, 0, 0, 1, 0, 1, 0, 1, 0, 1, 0, 0, 0, 0, 0, 0, 0, 1, 1, 1,\n",
       "       0, 1, 1, 1, 1, 1, 1, 1, 0, 1, 0, 0, 1, 0, 1, 0, 0, 1, 1, 0, 1, 1,\n",
       "       0, 0, 1, 0, 0, 0, 1, 0, 1, 0, 1, 1, 0, 0, 0, 0, 0, 0, 0, 1, 0, 1,\n",
       "       0, 0, 1, 0, 0, 1, 0, 1, 0, 0, 0, 0, 1, 1, 1, 1, 1, 0, 1, 1, 1, 1,\n",
       "       1, 0, 0, 0, 1, 0, 0, 0, 0, 1, 1, 1, 0, 1, 0, 1, 0, 0, 1, 0, 1, 1,\n",
       "       1, 1, 0, 1, 0, 0, 1, 1, 0, 0, 1, 1, 0, 0, 1, 0, 1, 1, 0, 1, 1, 0,\n",
       "       0, 1, 0, 0, 0, 1, 0, 0, 1, 1, 1, 1, 1, 0, 1, 1, 1, 1, 1, 0, 0, 1,\n",
       "       0, 0, 1, 0, 1, 1, 1, 1, 1, 0, 0, 1, 0, 0, 0, 1, 0, 1, 1, 0, 0, 0,\n",
       "       1, 1, 1, 1, 1, 0, 1, 1], dtype=int64)"
      ]
     },
     "execution_count": 32,
     "metadata": {},
     "output_type": "execute_result"
    }
   ],
   "source": [
    "# Model-2\n",
    "y2_pred = nb_clf2.predict(X2_test)\n",
    "y2_pred"
   ]
  },
  {
   "cell_type": "markdown",
   "id": "0948b6bf",
   "metadata": {},
   "source": [
    "# **Interpretation of Results**"
   ]
  },
  {
   "cell_type": "markdown",
   "id": "67b8c91a",
   "metadata": {},
   "source": [
    "## 1. **Cross Validated Accuracy Score**"
   ]
  },
  {
   "cell_type": "code",
   "execution_count": 33,
   "id": "4fc2d738",
   "metadata": {},
   "outputs": [
    {
     "name": "stdout",
     "output_type": "stream",
     "text": [
      "Cross Validated Accuracy Score for `Model-1`: [0.8627451  0.83986928 0.78431373]\n",
      "Mean Accuracy for `Model-1`: 0.8289760348583878\n"
     ]
    }
   ],
   "source": [
    "# Model-1\n",
    "cvs = cross_val_score(nb_clf1, X, y, cv=3, scoring=\"accuracy\")\n",
    "print(f\"Cross Validated Accuracy Score for `Model-1`: {cvs}\")\n",
    "print(f\"Mean Accuracy for `Model-1`: {cvs.mean()}\")"
   ]
  },
  {
   "cell_type": "code",
   "execution_count": 34,
   "id": "25362195",
   "metadata": {},
   "outputs": [
    {
     "name": "stdout",
     "output_type": "stream",
     "text": [
      "Cross Validated Accuracy Score for `Model-2`: [0.8627451  0.83986928 0.78431373]\n",
      "Mean Accuracy for `Model-2`: 0.8289760348583878\n"
     ]
    }
   ],
   "source": [
    "# Model-2\n",
    "cvs = cross_val_score(nb_clf2, X, y, cv=3, scoring=\"accuracy\")\n",
    "print(f\"Cross Validated Accuracy Score for `Model-2`: {cvs}\")\n",
    "print(f\"Mean Accuracy for `Model-2`: {cvs.mean()}\")"
   ]
  },
  {
   "cell_type": "markdown",
   "id": "ce06b415",
   "metadata": {},
   "source": [
    "## 2. **Confusion Matrix**"
   ]
  },
  {
   "cell_type": "code",
   "execution_count": 35,
   "id": "bb0633e6",
   "metadata": {},
   "outputs": [
    {
     "data": {
      "text/plain": [
       "array([[72, 15],\n",
       "       [14, 83]], dtype=int64)"
      ]
     },
     "execution_count": 35,
     "metadata": {},
     "output_type": "execute_result"
    }
   ],
   "source": [
    "# Model-1\n",
    "Conf_M1 = confusion_matrix(y1_test, y1_pred)\n",
    "Conf_M1"
   ]
  },
  {
   "cell_type": "code",
   "execution_count": 36,
   "id": "bd594f2e",
   "metadata": {},
   "outputs": [
    {
     "data": {
      "text/plain": [
       "array([[78, 16],\n",
       "       [11, 79]], dtype=int64)"
      ]
     },
     "execution_count": 36,
     "metadata": {},
     "output_type": "execute_result"
    }
   ],
   "source": [
    "# Model-2\n",
    "Conf_M2 = confusion_matrix(y2_test, y2_pred)\n",
    "Conf_M2"
   ]
  },
  {
   "cell_type": "markdown",
   "id": "0632cdef",
   "metadata": {},
   "source": [
    "## 3. **Accuracy Score**"
   ]
  },
  {
   "cell_type": "code",
   "execution_count": 37,
   "id": "3c1fa894",
   "metadata": {},
   "outputs": [
    {
     "data": {
      "text/plain": [
       "0.842391304347826"
      ]
     },
     "execution_count": 37,
     "metadata": {},
     "output_type": "execute_result"
    }
   ],
   "source": [
    "# Model-1\n",
    "Ac_S1 = accuracy_score(y_true= y1_test, y_pred= y1_pred)\n",
    "Ac_S1"
   ]
  },
  {
   "cell_type": "code",
   "execution_count": 38,
   "id": "054ec201",
   "metadata": {},
   "outputs": [
    {
     "data": {
      "text/plain": [
       "0.8532608695652174"
      ]
     },
     "execution_count": 38,
     "metadata": {},
     "output_type": "execute_result"
    }
   ],
   "source": [
    "# Model-2\n",
    "Ac_S2 = accuracy_score(y_true= y2_test, y_pred= y2_pred)\n",
    "Ac_S2"
   ]
  },
  {
   "cell_type": "markdown",
   "id": "c14d55db",
   "metadata": {},
   "source": [
    "## 4. **Predicting**\n",
    "Use the classifier to predict output base on new data\n",
    "\n",
    "----------\n",
    "\n",
    "- `Age`: age of the patient **[years]**\n",
    "- `Sex`: sex of the patient **[0: Male, 1: Female]**\n",
    "- `ChestPainType`: chest pain type **[0: Typical Angina, 1: Atypical Angina, 2: Non-Anginal Pain, 3: Asymptomatic]**\n",
    "- `RestingBP`: resting blood pressure **[mm Hg]**\n",
    "- `Cholesterol`: serum cholesterol **[mm/dl]**\n",
    "- `FastingBS`: fasting blood sugar **[1: if FastingBS > 120 mg/dl, 0: otherwise]**\n",
    "- `RestingECG`: resting electrocardiogram results **[0: Normal, 1: having ST-T wave abnormality (T wave inversions and/or ST elevation or depression of > 0.05 mV), 2`: showing probable or definite left ventricular hypertrophy by Estes' criteria]**\n",
    "- `MaxHR`: maximum heart rate achieved **[Numeric value between 60 and 202]**\n",
    "- `ExerciseAngina`: exercise-induced angina **[0: Yes, 1: No]**\n",
    "- `Oldpeak`: oldpeak = ST **[Numeric value measured in depression]**\n",
    "- `ST_Slope`: the slope of the peak exercise ST segment **[0: upsloping, 1: flat, 2: downsloping]**\n",
    "----\n",
    "- `HeartDisease`: output class **[1: heart disease, 0: Normal]**"
   ]
  },
  {
   "cell_type": "code",
   "execution_count": 39,
   "id": "a2f068b9",
   "metadata": {},
   "outputs": [
    {
     "data": {
      "text/plain": [
       "array([1], dtype=int64)"
      ]
     },
     "execution_count": 39,
     "metadata": {},
     "output_type": "execute_result"
    }
   ],
   "source": [
    "# Model-1\n",
    "y_new = nb_clf1.predict([[60, 1, 1, 130, 220, 1, 0, 160, 0, 2.3, 2]])\n",
    "y_new"
   ]
  },
  {
   "cell_type": "code",
   "execution_count": 40,
   "id": "3c31daeb",
   "metadata": {},
   "outputs": [
    {
     "data": {
      "text/plain": [
       "array([1], dtype=int64)"
      ]
     },
     "execution_count": 40,
     "metadata": {},
     "output_type": "execute_result"
    }
   ],
   "source": [
    "# Model-2\n",
    "y_new = nb_clf2.predict([[55, 0, 2, 140, 250, 0, 1, 150, 1, 1.5, 1]])\n",
    "y_new"
   ]
  },
  {
   "cell_type": "markdown",
   "id": "625e3221",
   "metadata": {},
   "source": [
    "# **Visualization**"
   ]
  },
  {
   "cell_type": "code",
   "execution_count": 55,
   "id": "e9d06ed4",
   "metadata": {},
   "outputs": [
    {
     "data": {
      "image/png": "[encoded data removed]",
      "text/plain": [
       "<Figure size 640x480 with 2 Axes>"
      ]
     },
     "metadata": {},
     "output_type": "display_data"
    }
   ],
   "source": [
    "# Plot confusion matrix for Model -1\n",
    "disp = CMD(confusion_matrix=Conf_M1)\n",
    "disp.plot(cmap='Blues')\n",
    "plt.show()"
   ]
  },
  {
   "cell_type": "code",
   "execution_count": 56,
   "id": "8e9f2d70",
   "metadata": {},
   "outputs": [
    {
     "data": {
      "image/png": "[encoded data removed]",
      "text/plain": [
       "<Figure size 640x480 with 2 Axes>"
      ]
     },
     "metadata": {},
     "output_type": "display_data"
    }
   ],
   "source": [
    "# Plot confusion matrix for Model -2\n",
    "disp = CMD(confusion_matrix=Conf_M2)\n",
    "disp.plot(cmap='Blues')\n",
    "plt.show()"
   ]
  },
  {
   "cell_type": "markdown",
   "id": "d4ce5f44",
   "metadata": {},
   "source": [
    "# **Model's Performance and Evaluation**"
   ]
  },
  {
   "cell_type": "markdown",
   "id": "983a33d0",
   "metadata": {},
   "source": [
    "- **Model 1** has an `accuracy of approximately 84.2%`, `precision of 84.7%`, `recall of 85.6%`, and `F1 score of 85.1%`.\n",
    "- **Model 2** has an `accuracy of approximately 85.3%`, `precision of 83.2%`, `recall of 87.8%`, and `F1 score of 85.4%`.\n",
    "\n",
    "-----\n",
    "\n",
    "Model 2 slightly outperforms Model 1 in terms of accuracy, recall, and F1 score, making it the better model overall."
   ]
  }
 ],
 "metadata": {
  "kernelspec": {
   "display_name": "Python 3",
   "language": "python",
   "name": "python3"
  },
  "language_info": {
   "codemirror_mode": {
    "name": "ipython",
    "version": 3
   },
   "file_extension": ".py",
   "mimetype": "text/x-python",
   "name": "python",
   "nbconvert_exporter": "python",
   "pygments_lexer": "ipython3",
   "version": "3.11.0"
  }
 },
 "nbformat": 4,
 "nbformat_minor": 5
}
